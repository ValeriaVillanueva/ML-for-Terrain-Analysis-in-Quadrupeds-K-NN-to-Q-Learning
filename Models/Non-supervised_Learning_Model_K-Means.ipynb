{
 "cells": [
  {
   "cell_type": "markdown",
   "id": "13f792fa",
   "metadata": {},
   "source": [
    "\n",
    "# Soil Terrain Analysis for 4 legged robot\n"
   ]
  },
  {
   "cell_type": "code",
   "execution_count": null,
   "id": "b278b195",
   "metadata": {},
   "outputs": [],
   "source": [
    "\n",
    "import pandas as pd\n",
    "from sklearn.cluster import KMeans\n",
    "from scipy.spatial.distance import cdist\n",
    "import numpy as np\n",
    "\n",
    "# Load the dataset\n",
    "file_path = 'initial_dataset_soil_terrains' # Update with your dataset path\n",
    "dataset = pd.read_csv(file_path)\n",
    "\n",
    "# Function to segment, cluster, and calculate centroids\n",
    "def segment_and_cluster(data, label, n_clusters=3):\n",
    "    segmented_data = data[data['Label'] == label].drop('Label', axis=1)\n",
    "    kmeans = KMeans(n_clusters=n_clusters, random_state=0)\n",
    "    kmeans.fit(segmented_data)\n",
    "    segmented_data['Subclass'] = kmeans.labels_\n",
    "    centroids = kmeans.cluster_centers_\n",
    "    return segmented_data, centroids\n",
    "\n",
    "# Function to calculate distances to the optimal centroid (Bedrock)\n",
    "def calculate_distances_to_optimal(centroids, optimal_centroid):\n",
    "    distances = cdist(centroids, optimal_centroid.reshape(1, -1), metric='euclidean')\n",
    "    average_distances = distances.mean(axis=1)\n",
    "    return average_distances\n",
    "\n",
    "# Segment and cluster each soil type\n",
    "# Repeat the process for each soil type label (e.g., 7 for Bedrock)\n",
    "\n",
    "# Append subclass info and distances\n",
    "def append_subclass_info(data, distances, soil_label):\n",
    "    data['Distance_To_Bedrock_Centroid'] = data['Subclass'].apply(lambda x: distances[x])\n",
    "    data['Soil_Type'] = soil_label\n",
    "    return data\n",
    "\n",
    "# Set Bedrock distances to 0 and create composite labels\n",
    "sorted_combined_dataset.loc[sorted_combined_dataset['Soil_Type'] == 'Bedrock', 'Distance_To_Bedrock_Centroid'] = 0\n",
    "sorted_combined_dataset['Composite_Label'] = sorted_combined_dataset['Soil_Type'] + '_subclass_' + sorted_combined_dataset['Subclass'].astype(str)\n",
    "\n",
    "# Combine and sort the dataset\n",
    "combined_dataset = pd.concat([bedrock_data, bedrock_es2_data, es3_data, coarse_sand_data, es2_data, rocks_es3_data, es1_data])\n",
    "sorted_combined_dataset = combined_dataset.sort_values(by='Distance_To_Bedrock_Centroid')\n",
    "\n",
    "# Export the final dataset\n",
    "sorted_combined_dataset.to_csv('final_dataset_soil_terrains', index=False)\n"
   ]
  }
 ],
 "metadata": {
  "kernelspec": {
   "display_name": "Python 3 (ipykernel)",
   "language": "python",
   "name": "python3"
  },
  "language_info": {
   "codemirror_mode": {
    "name": "ipython",
    "version": 3
   },
   "file_extension": ".py",
   "mimetype": "text/x-python",
   "name": "python",
   "nbconvert_exporter": "python",
   "pygments_lexer": "ipython3",
   "version": "3.10.10"
  }
 },
 "nbformat": 4,
 "nbformat_minor": 5
}
